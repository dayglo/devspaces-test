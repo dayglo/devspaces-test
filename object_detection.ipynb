{
 "cells": [
  {
   "cell_type": "code",
   "execution_count": 40,
   "metadata": {
    "cellView": "both",
    "execution": {
     "iopub.execute_input": "2022-12-14T13:13:10.314861Z",
     "iopub.status.busy": "2022-12-14T13:13:10.314334Z",
     "iopub.status.idle": "2022-12-14T13:13:15.611779Z",
     "shell.execute_reply": "2022-12-14T13:13:15.611060Z"
    },
    "id": "6cPY9Ou4sWs_"
   },
   "outputs": [
    {
     "name": "stdout",
     "output_type": "stream",
     "text": [
      "2.11.0\n",
      "The following GPU devices are available: \n"
     ]
    }
   ],
   "source": [
    "import tensorflow as tf\n",
    "import tensorflow_hub as hub\n",
    "\n",
    "# For downloading the image.\n",
    "import matplotlib.pyplot as plt\n",
    "%matplotlib inline\n",
    "\n",
    "# For drawing onto the image.\n",
    "import numpy as np\n",
    "from PIL import Image\n",
    "from PIL import ImageColor\n",
    "from PIL import ImageDraw\n",
    "from PIL import ImageFont\n",
    "from PIL import ImageOps\n",
    "\n",
    "# For measuring the inference time.\n",
    "import time\n",
    "\n",
    "# Print Tensorflow version\n",
    "print(tf.__version__)\n",
    "\n",
    "# Check available GPU devices.\n",
    "print(\"The following GPU devices are available: %s\" % tf.test.gpu_device_name())"
   ]
  },
  {
   "cell_type": "code",
   "execution_count": null,
   "metadata": {},
   "outputs": [],
   "source": [
    "def display_image(image):\n",
    "    fig = plt.figure(figsize=(20, 15))\n",
    "    plt.grid(False)\n",
    "    plt.imshow(image)"
   ]
  },
  {
   "cell_type": "code",
   "execution_count": null,
   "metadata": {},
   "outputs": [],
   "source": [
    "def resize_image(path, new_width=256, new_height=256, display=False):\n",
    "    pil_image = image.open(path)\n",
    "    pil_image = ImageOps.fit(pil_image, (new_width, new_height), Image.ANTIALIAS)\n",
    "    pil_image_rgb = pil_image.convert(\"RGB\")\n",
    "    return pil_image_rgb"
   ]
  },
  {
   "cell_type": "code",
   "execution_count": 69,
   "metadata": {},
   "outputs": [],
   "source": [
    "def draw_bounding_box_on_image(image,\n",
    "                               ymin,\n",
    "                               xmin,\n",
    "                               ymax,\n",
    "                               xmax,\n",
    "                               color,\n",
    "                               font,\n",
    "                               thickness=4,\n",
    "                               display_str_list=()):\n",
    "    \"\"\"Adds a bounding box to an image.\"\"\"\n",
    "    draw = ImageDraw.Draw(image)\n",
    "    im_width, im_height = image.size\n",
    "    (left, right, top, bottom) = (xmin * im_width, xmax * im_width,\n",
    "                                  ymin * im_height, ymax * im_height)\n",
    "    draw.line([(left, top), (left, bottom), (right, bottom), (right, top),(left, top)],\n",
    "              width=thickness,\n",
    "              fill=color)\n",
    "\n",
    "    # If the total height of the display strings added to the top of the bounding\n",
    "    # box exceeds the top of the image, stack the strings below the bounding box\n",
    "    # instead of above.\n",
    "    display_str_heights = [font.getsize(ds)[1] for ds in display_str_list]\n",
    "    # Each display_str has a top and bottom margin of 0.05x.\n",
    "    total_display_str_height = (1 + 2 * 0.05) * sum(display_str_heights)\n",
    "\n",
    "    if top > total_display_str_height:\n",
    "        text_bottom = top\n",
    "    else:\n",
    "        text_bottom = top + total_display_str_height\n",
    "    # Reverse list and print from bottom to top.\n",
    "    for display_str in display_str_list[::-1]:\n",
    "        text_width, text_height = font.getsize(display_str)\n",
    "        margin = np.ceil(0.05 * text_height)\n",
    "        draw.rectangle([(left, text_bottom - text_height - 2 * margin), (left + text_width, text_bottom)],\n",
    "                       fill=color)\n",
    "        draw.text((left + margin, text_bottom - text_height - margin),\n",
    "                  display_str,\n",
    "                  fill=\"black\",\n",
    "                  font=font)\n",
    "        text_bottom -= text_height - 2 * margin"
   ]
  },
  {
   "cell_type": "code",
   "execution_count": 71,
   "metadata": {
    "execution": {
     "iopub.execute_input": "2022-12-14T13:13:15.616472Z",
     "iopub.status.busy": "2022-12-14T13:13:15.615756Z",
     "iopub.status.idle": "2022-12-14T13:13:15.628513Z",
     "shell.execute_reply": "2022-12-14T13:13:15.627858Z"
    },
    "id": "D9IwDpOtpIHW"
   },
   "outputs": [],
   "source": [
    "def draw_boxes(image, boxes, class_names, scores, max_boxes=10, min_score=0.1):\n",
    "    \"\"\"Overlay labeled boxes on an image with formatted scores and label names.\"\"\"\n",
    "    colors = list(ImageColor.colormap.values())\n",
    "    font = ImageFont.load_default()\n",
    "    for i in range(min(boxes.shape[0], max_boxes)):\n",
    "        if scores[i] >= min_score:\n",
    "            ymin, xmin, ymax, xmax = tuple(boxes[i])\n",
    "            #display_str = \"{}: {}%\".format(class_names[i].decode(\"ascii\"), int(100 * scores[i]))\n",
    "            \n",
    "            color = colors[hash(class_names[i]) % len(colors)]\n",
    "            image_pil = Image.fromarray(np.uint8(image)).convert(\"RGB\")\n",
    "            draw_bounding_box_on_image(\n",
    "              image_pil,\n",
    "              ymin,\n",
    "              xmin,\n",
    "              ymax,\n",
    "              xmax,\n",
    "              color,\n",
    "              font,\n",
    "              display_str_list=[display_str])\n",
    "            np.copyto(image, np.array(image_pil))\n",
    "    return image"
   ]
  },
  {
   "cell_type": "code",
   "execution_count": 47,
   "metadata": {
    "execution": {
     "iopub.execute_input": "2022-12-14T13:14:28.769381Z",
     "iopub.status.busy": "2022-12-14T13:14:28.768640Z",
     "iopub.status.idle": "2022-12-14T13:14:28.772534Z",
     "shell.execute_reply": "2022-12-14T13:14:28.771948Z"
    },
    "id": "znW8Fq1EC0x7"
   },
   "outputs": [],
   "source": [
    "def load_img(path):\n",
    "    img = tf.io.read_file(path)\n",
    "    img = tf.image.decode_jpeg(img, channels=3)\n",
    "    return img"
   ]
  },
  {
   "cell_type": "code",
   "execution_count": 93,
   "metadata": {
    "cellView": "both",
    "execution": {
     "iopub.execute_input": "2022-12-14T13:13:15.631889Z",
     "iopub.status.busy": "2022-12-14T13:13:15.631258Z",
     "iopub.status.idle": "2022-12-14T13:13:17.438729Z",
     "shell.execute_reply": "2022-12-14T13:13:17.438055Z"
    },
    "id": "YLWNhjUY1mhg"
   },
   "outputs": [],
   "source": [
    "import os\n",
    "path = ./images",
    "imgs = [path+img for img in os.listdir(path) if os.path.isfile(os.path.join(path, img))]"
   ]
  },
  {
   "cell_type": "code",
   "execution_count": 46,
   "metadata": {
    "execution": {
     "iopub.execute_input": "2022-12-14T13:13:17.493144Z",
     "iopub.status.busy": "2022-12-14T13:13:17.492325Z",
     "iopub.status.idle": "2022-12-14T13:14:28.764851Z",
     "shell.execute_reply": "2022-12-14T13:14:28.764050Z"
    },
    "id": "uazJ5ASc2_QE"
   },
   "outputs": [
    {
     "name": "stdout",
     "output_type": "stream",
     "text": [
      "INFO:tensorflow:Saver not created because there are no variables in the graph to restore\n"
     ]
    },
    {
     "name": "stderr",
     "output_type": "stream",
     "text": [
      "INFO:tensorflow:Saver not created because there are no variables in the graph to restore\n"
     ]
    }
   ],
   "source": [
    "#load pretrained model\n",
    "module_handle = \"https://tfhub.dev/google/faster_rcnn/openimages_v4/inception_resnet_v2/1\" #@param [\"https://tfhub.dev/google/openimages_v4/ssd/mobilenet_v2/1\", \"https://tfhub.dev/google/faster_rcnn/openimages_v4/inception_resnet_v2/1\"]\n",
    "detector = hub.load(module_handle).signatures['default']"
   ]
  },
  {
   "cell_type": "code",
   "execution_count": 124,
   "metadata": {
    "execution": {
     "iopub.execute_input": "2022-12-14T13:14:28.775522Z",
     "iopub.status.busy": "2022-12-14T13:14:28.775051Z",
     "iopub.status.idle": "2022-12-14T13:14:28.779907Z",
     "shell.execute_reply": "2022-12-14T13:14:28.779319Z"
    },
    "id": "kwGJV96WWBLH"
   },
   "outputs": [],
   "source": [
    "def run_detector(detector, path, display=False):\n",
    "    img = load_img(path)\n",
    "\n",
    "    converted_img  = tf.image.convert_image_dtype(img, tf.float32)[tf.newaxis, ...]\n",
    "    start_time = time.time()\n",
    "    result = detector(converted_img)\n",
    "    end_time = time.time()\n",
    "\n",
    "    result = {key:value.numpy() for key,value in result.items()}\n",
    "\n",
    "    image_with_boxes = draw_boxes(img.numpy(), result[\"detection_boxes\"],\n",
    "                                  result[\"detection_class_entities\"],\n",
    "                                  result[\"detection_scores\"])\n",
    "    if display==True:\n",
    "        display_image(image_with_boxes)\n",
    "        \n",
    "    return {\"image_path\": path, \"inference_time\": end_time-start_time, \"output\": result}"
   ]
  },
  {
   "cell_type": "code",
   "execution_count": 125,
   "metadata": {
    "execution": {
     "iopub.execute_input": "2022-12-14T13:14:28.782761Z",
     "iopub.status.busy": "2022-12-14T13:14:28.782295Z",
     "iopub.status.idle": "2022-12-14T13:15:14.601704Z",
     "shell.execute_reply": "2022-12-14T13:15:14.600922Z"
    },
    "id": "vchaUW1XDodD"
   },
   "outputs": [],
   "source": [
    "test = run_detector(detector, imgs[0], display=False)"
   ]
  },
  {
   "cell_type": "code",
   "execution_count": 126,
   "metadata": {},
   "outputs": [
    {
     "data": {
      "text/plain": [
       "{'image_path': 'C:\\\\Users\\\\j.driscoll\\\\downloads\\\\jiasc_test\\\\0.JPG',\n",
       " 'inference_time': 18.255093812942505,\n",
       " 'output': {'detection_class_names': array([b'/m/0k4j', b'/m/083wq', b'/m/01prls', b'/m/083wq', b'/m/07yv9',\n",
       "         b'/m/083wq', b'/m/07yv9', b'/m/083wq', b'/m/07j7r', b'/m/07j7r',\n",
       "         b'/m/01g317', b'/m/07cmd', b'/m/083wq', b'/m/01prls', b'/m/0d4v4',\n",
       "         b'/m/083wq', b'/m/07yv9', b'/m/083wq', b'/m/0h9mv', b'/m/083wq',\n",
       "         b'/m/01prls', b'/m/083wq', b'/m/0k4j', b'/m/0d4v4', b'/m/0h9mv',\n",
       "         b'/m/0d4v4', b'/m/03jm5', b'/m/0cgh4', b'/m/07j7r', b'/m/083wq',\n",
       "         b'/m/08dz3q', b'/m/01g317', b'/m/0h9mv', b'/m/0h9mv', b'/m/0cgh4',\n",
       "         b'/m/07j7r', b'/m/01g317', b'/m/09j2d', b'/m/083wq', b'/m/07j7r',\n",
       "         b'/m/0138tl', b'/m/083wq', b'/m/01prls', b'/m/0h9mv', b'/m/0cgh4',\n",
       "         b'/m/01prls', b'/m/083wq', b'/m/07j7r', b'/m/07yv9', b'/m/0h9mv',\n",
       "         b'/m/0h9mv', b'/m/083wq', b'/m/07cmd', b'/m/0cgh4', b'/m/05s2s',\n",
       "         b'/m/083wq', b'/m/0138tl', b'/m/083wq', b'/m/01n5jq', b'/m/07j7r',\n",
       "         b'/m/07j7r', b'/m/0h9mv', b'/m/0h9mv', b'/m/0h9mv', b'/m/01prls',\n",
       "         b'/m/09ct_', b'/m/083wq', b'/m/0k4j', b'/m/0k4j', b'/m/0cgh4',\n",
       "         b'/m/0h9mv', b'/m/0h9mv', b'/m/04rky', b'/m/01g317', b'/m/03jm5',\n",
       "         b'/m/0h9mv', b'/m/0h9mv', b'/m/05s2s', b'/m/083wq', b'/m/01prls',\n",
       "         b'/m/0cmf2', b'/m/083wq', b'/m/04rky', b'/m/07yv9', b'/m/0cmf2',\n",
       "         b'/m/09j2d', b'/m/03jm5', b'/m/0cmf2', b'/m/0h9mv', b'/m/019jd',\n",
       "         b'/m/0c_jw', b'/m/083kb', b'/m/01prls', b'/m/07yv9', b'/m/03jm5',\n",
       "         b'/m/0199g', b'/m/0h9mv', b'/m/01mzpv', b'/m/083wq', b'/m/07yv9'],\n",
       "        dtype=object),\n",
       "  'detection_class_entities': array([b'Car', b'Wheel', b'Land vehicle', b'Wheel', b'Vehicle', b'Wheel',\n",
       "         b'Vehicle', b'Wheel', b'Tree', b'Tree', b'Person', b'Tank',\n",
       "         b'Wheel', b'Land vehicle', b'Window', b'Wheel', b'Vehicle',\n",
       "         b'Wheel', b'Tire', b'Wheel', b'Land vehicle', b'Wheel', b'Car',\n",
       "         b'Window', b'Tire', b'Window', b'House', b'Building', b'Tree',\n",
       "         b'Wheel', b'Auto part', b'Person', b'Tire', b'Tire', b'Building',\n",
       "         b'Tree', b'Person', b'Clothing', b'Wheel', b'Tree', b'Toy',\n",
       "         b'Wheel', b'Land vehicle', b'Tire', b'Building', b'Land vehicle',\n",
       "         b'Wheel', b'Tree', b'Vehicle', b'Tire', b'Tire', b'Wheel', b'Tank',\n",
       "         b'Building', b'Plant', b'Wheel', b'Toy', b'Wheel', b'Poster',\n",
       "         b'Tree', b'Tree', b'Tire', b'Tire', b'Tire', b'Land vehicle',\n",
       "         b'Helicopter', b'Wheel', b'Car', b'Car', b'Building', b'Tire',\n",
       "         b'Tire', b'Mammal', b'Person', b'House', b'Tire', b'Tire',\n",
       "         b'Plant', b'Wheel', b'Land vehicle', b'Airplane', b'Wheel',\n",
       "         b'Mammal', b'Vehicle', b'Airplane', b'Clothing', b'House',\n",
       "         b'Airplane', b'Tire', b'Boat', b'Furniture', b'Weapon',\n",
       "         b'Land vehicle', b'Vehicle', b'House', b'Bicycle', b'Tire',\n",
       "         b'Chair', b'Wheel', b'Vehicle'], dtype=object),\n",
       "  'detection_boxes': array([[3.1755006e-01, 4.1678286e-01, 4.1765335e-01, 5.7873112e-01],\n",
       "         [3.8262364e-01, 5.3076553e-01, 4.1917521e-01, 5.6345606e-01],\n",
       "         [3.3266652e-01, 3.1720507e-01, 4.8580742e-01, 4.8446962e-01],\n",
       "         [4.5105892e-01, 4.4114432e-01, 4.8305121e-01, 4.6953064e-01],\n",
       "         [6.3769740e-01, 3.1446746e-01, 8.2292283e-01, 6.0580820e-01],\n",
       "         [4.3628380e-01, 3.7847644e-01, 4.8624390e-01, 4.1033891e-01],\n",
       "         [1.1875814e-02, 0.0000000e+00, 9.6069694e-01, 1.0000000e+00],\n",
       "         [7.3852533e-01, 4.9586472e-01, 7.9669064e-01, 5.4396248e-01],\n",
       "         [7.7658184e-02, 7.6153446e-03, 7.7474427e-01, 2.2337146e-01],\n",
       "         [4.6393205e-03, 1.4926024e-01, 2.3062867e-01, 3.3958626e-01],\n",
       "         [2.1930596e-01, 3.3432791e-01, 2.9352197e-01, 3.6822098e-01],\n",
       "         [6.2254846e-01, 3.0524567e-01, 8.2451630e-01, 5.7908255e-01],\n",
       "         [3.6680424e-01, 5.3058994e-01, 4.1822600e-01, 5.6969005e-01],\n",
       "         [3.1178382e-01, 4.1551471e-01, 4.2193019e-01, 5.7876396e-01],\n",
       "         [1.3903312e-01, 9.2456365e-01, 2.1385488e-01, 9.5794439e-01],\n",
       "         [4.0241441e-01, 4.4341749e-01, 4.7598222e-01, 4.7718385e-01],\n",
       "         [3.3284286e-01, 3.1255704e-01, 4.8422873e-01, 4.8412296e-01],\n",
       "         [4.3056175e-01, 4.3797377e-01, 4.8264974e-01, 4.7417703e-01],\n",
       "         [3.8224772e-01, 5.3117514e-01, 4.1822481e-01, 5.6276292e-01],\n",
       "         [4.0510476e-01, 3.2128954e-01, 4.5161566e-01, 3.4158701e-01],\n",
       "         [6.3844818e-01, 3.1002024e-01, 8.3010513e-01, 5.9401292e-01],\n",
       "         [4.0491551e-01, 3.2728618e-01, 4.5333695e-01, 3.4775656e-01],\n",
       "         [3.4741381e-01, 3.1627017e-01, 4.8420438e-01, 4.8277026e-01],\n",
       "         [0.0000000e+00, 3.0529555e-03, 9.5702648e-01, 1.0000000e+00],\n",
       "         [4.3489766e-01, 3.7724313e-01, 4.8465893e-01, 4.1011286e-01],\n",
       "         [8.7694228e-02, 8.5855645e-01, 1.8652228e-01, 8.8651389e-01],\n",
       "         [2.5781760e-02, 6.4041489e-01, 3.7032172e-01, 9.8950303e-01],\n",
       "         [2.5459392e-02, 6.3425767e-01, 3.7004605e-01, 9.8662156e-01],\n",
       "         [1.6418736e-02, 3.1500027e-01, 2.8635317e-01, 5.2995127e-01],\n",
       "         [3.9363590e-01, 5.3237313e-01, 4.1781411e-01, 5.5658251e-01],\n",
       "         [6.8385893e-01, 3.1113979e-01, 8.1177479e-01, 3.9415199e-01],\n",
       "         [3.6794883e-01, 2.5704283e-01, 4.3138912e-01, 2.7849829e-01],\n",
       "         [7.3663741e-01, 4.9644744e-01, 7.9823130e-01, 5.4114610e-01],\n",
       "         [3.6491019e-01, 5.3195679e-01, 4.1720974e-01, 5.6778485e-01],\n",
       "         [8.3397934e-03, 2.1763961e-01, 5.0911552e-01, 9.6615243e-01],\n",
       "         [7.8034036e-02, 9.7137270e-04, 4.9128011e-01, 1.4516513e-01],\n",
       "         [2.1287926e-01, 3.4185556e-01, 2.9532173e-01, 3.7731260e-01],\n",
       "         [2.2764529e-01, 3.3561242e-01, 2.8394127e-01, 3.7079275e-01],\n",
       "         [3.5204989e-01, 5.4242885e-01, 4.1344118e-01, 5.7542723e-01],\n",
       "         [9.1495067e-03, 2.8915557e-01, 2.1847835e-01, 4.4373006e-01],\n",
       "         [6.1870056e-01, 3.0213639e-01, 8.3213401e-01, 6.0738164e-01],\n",
       "         [4.1395658e-01, 3.3782017e-01, 4.5579305e-01, 3.5522568e-01],\n",
       "         [7.3264062e-02, 3.4076779e-03, 9.8754746e-01, 9.2514455e-01],\n",
       "         [4.4858578e-01, 4.4269210e-01, 4.8185542e-01, 4.6819752e-01],\n",
       "         [2.8769227e-02, 6.5786049e-02, 8.8323784e-01, 9.6427476e-01],\n",
       "         [2.9033083e-01, 3.1973767e-01, 3.6978704e-01, 4.4994688e-01],\n",
       "         [3.8438660e-01, 4.8622987e-01, 4.2005694e-01, 5.1796746e-01],\n",
       "         [1.7766152e-02, 3.0757883e-01, 1.9176729e-01, 4.1580734e-01],\n",
       "         [3.1244060e-01, 4.1504067e-01, 4.1654867e-01, 5.8191842e-01],\n",
       "         [7.3189986e-01, 7.0388514e-01, 8.1953311e-01, 7.4148846e-01],\n",
       "         [4.0056527e-01, 4.4383413e-01, 4.7558835e-01, 4.7659120e-01],\n",
       "         [7.3862153e-01, 7.0454413e-01, 8.1835562e-01, 7.4079514e-01],\n",
       "         [3.1733570e-01, 3.0178243e-01, 4.8463193e-01, 4.7462165e-01],\n",
       "         [8.5404720e-03, 4.2424187e-01, 3.4783190e-01, 9.7148895e-01],\n",
       "         [8.1058100e-02, 0.0000000e+00, 4.7869462e-01, 1.4474584e-01],\n",
       "         [3.7709475e-01, 5.2040851e-01, 4.2006785e-01, 5.6019139e-01],\n",
       "         [3.3248585e-01, 3.0814528e-01, 4.8900640e-01, 4.8558933e-01],\n",
       "         [4.5352459e-01, 4.3303236e-01, 4.8409802e-01, 4.6458817e-01],\n",
       "         [0.0000000e+00, 0.0000000e+00, 1.0000000e+00, 1.0000000e+00],\n",
       "         [1.9460296e-02, 2.7889818e-02, 9.1342187e-01, 3.2651293e-01],\n",
       "         [1.3565699e-03, 2.0834459e-01, 2.1827261e-01, 4.1422689e-01],\n",
       "         [3.8273495e-01, 4.8704886e-01, 4.1974899e-01, 5.1817548e-01],\n",
       "         [3.9360070e-01, 5.3202718e-01, 4.1784433e-01, 5.5671412e-01],\n",
       "         [4.2867020e-01, 4.3927622e-01, 4.8002672e-01, 4.7253454e-01],\n",
       "         [3.3025113e-01, 3.1841832e-01, 4.5098120e-01, 4.4092208e-01],\n",
       "         [1.2175331e-01, 1.4886546e-02, 8.9924514e-01, 9.2283171e-01],\n",
       "         [4.1193518e-01, 4.2470354e-01, 4.8337612e-01, 4.7111893e-01],\n",
       "         [2.4177145e-02, 2.2692304e-02, 9.8457003e-01, 1.0000000e+00],\n",
       "         [3.7144554e-01, 3.9763841e-01, 4.7742426e-01, 4.8338321e-01],\n",
       "         [3.3309686e-01, 9.9309431e-03, 9.7408581e-01, 1.0000000e+00],\n",
       "         [4.0365380e-01, 3.2707447e-01, 4.5271450e-01, 3.4736437e-01],\n",
       "         [3.8083160e-01, 4.9634346e-01, 4.2054218e-01, 5.2243239e-01],\n",
       "         [2.1982895e-01, 3.3450130e-01, 2.8951016e-01, 3.7057269e-01],\n",
       "         [3.4029382e-01, 2.7910349e-01, 4.0528777e-01, 3.0165580e-01],\n",
       "         [2.0210495e-02, 8.5933650e-01, 3.7579423e-01, 9.9781764e-01],\n",
       "         [3.4897295e-01, 5.4354465e-01, 4.1399828e-01, 5.7368511e-01],\n",
       "         [4.0390083e-01, 3.2126167e-01, 4.5034236e-01, 3.4133163e-01],\n",
       "         [8.5102417e-02, 5.6376015e-03, 7.1890533e-01, 2.2752091e-01],\n",
       "         [4.2693990e-01, 3.7373281e-01, 4.8205048e-01, 4.0466353e-01],\n",
       "         [3.6876363e-01, 2.5588992e-01, 4.2978823e-01, 2.8013217e-01],\n",
       "         [2.8099722e-01, 2.1633749e-01, 4.1396540e-01, 4.9247387e-01],\n",
       "         [4.0837356e-01, 4.4896036e-01, 4.5559952e-01, 4.7256500e-01],\n",
       "         [3.6786678e-01, 2.5800359e-01, 4.2923665e-01, 2.7842930e-01],\n",
       "         [5.6297444e-02, 4.4320658e-01, 2.5674266e-01, 6.3179493e-01],\n",
       "         [5.5766579e-02, 1.2979907e-02, 8.9207178e-01, 9.9567783e-01],\n",
       "         [3.7480643e-01, 2.5716519e-01, 4.2226359e-01, 2.7412343e-01],\n",
       "         [2.7176006e-02, 5.1311847e-02, 8.2509357e-01, 9.3440813e-01],\n",
       "         [3.6625803e-01, 0.0000000e+00, 9.4319642e-01, 1.0000000e+00],\n",
       "         [4.1251278e-01, 3.3771926e-01, 4.5601782e-01, 3.5493231e-01],\n",
       "         [4.5833919e-02, 4.4079480e-01, 2.5302210e-01, 6.2610942e-01],\n",
       "         [3.4030768e-01, 9.4401222e-01, 4.1785848e-01, 9.9761707e-01],\n",
       "         [6.4610881e-01, 2.9665840e-01, 8.1857443e-01, 5.9704304e-01],\n",
       "         [6.6121727e-01, 4.9489531e-01, 7.9602665e-01, 5.9812725e-01],\n",
       "         [2.8930995e-01, 3.1900582e-01, 3.6532864e-01, 4.4735184e-01],\n",
       "         [0.0000000e+00, 4.3121693e-01, 3.3957842e-01, 9.6561509e-01],\n",
       "         [3.7627092e-01, 2.5699964e-01, 4.3085212e-01, 2.7530900e-01],\n",
       "         [3.7619299e-01, 5.2225459e-01, 4.1959661e-01, 5.5918247e-01],\n",
       "         [3.4097305e-01, 9.4029361e-01, 4.2231038e-01, 1.0000000e+00],\n",
       "         [3.8804948e-01, 5.2224684e-01, 4.1597486e-01, 5.4057044e-01],\n",
       "         [2.7656415e-01, 2.3007078e-01, 4.0832680e-01, 4.7991002e-01]],\n",
       "        dtype=float32),\n",
       "  'detection_scores': array([0.80841464, 0.5594088 , 0.55892706, 0.360961  , 0.32959527,\n",
       "         0.3247079 , 0.26795524, 0.26271504, 0.257409  , 0.22844289,\n",
       "         0.21922274, 0.18151195, 0.17197376, 0.1714792 , 0.1644126 ,\n",
       "         0.15078446, 0.13348599, 0.12990083, 0.12524918, 0.12399767,\n",
       "         0.12360558, 0.11487192, 0.10890206, 0.10396777, 0.09607505,\n",
       "         0.09528068, 0.08991764, 0.08784407, 0.08759541, 0.08353013,\n",
       "         0.0826319 , 0.07830792, 0.06682499, 0.06640235, 0.06320534,\n",
       "         0.06080595, 0.0567824 , 0.05438842, 0.0537197 , 0.05222124,\n",
       "         0.0517921 , 0.05036557, 0.05023156, 0.04951805, 0.04938149,\n",
       "         0.04797516, 0.04529662, 0.041945  , 0.04046734, 0.03818677,\n",
       "         0.03813719, 0.03650004, 0.03426628, 0.03362058, 0.03292847,\n",
       "         0.03249323, 0.03171956, 0.03115053, 0.03096182, 0.03052592,\n",
       "         0.02987645, 0.02977554, 0.02972   , 0.02877737, 0.0281569 ,\n",
       "         0.02762886, 0.02558697, 0.02513926, 0.02500548, 0.02439029,\n",
       "         0.02404957, 0.02350754, 0.02313713, 0.02259905, 0.02232593,\n",
       "         0.02182344, 0.02109343, 0.02102179, 0.02081615, 0.02032384,\n",
       "         0.01985695, 0.01960282, 0.01956573, 0.01912135, 0.01886868,\n",
       "         0.01848446, 0.01781879, 0.01720816, 0.01669898, 0.01658642,\n",
       "         0.01588291, 0.01578962, 0.01562948, 0.01560259, 0.01559086,\n",
       "         0.01482291, 0.01466964, 0.01466157, 0.01426671, 0.01407106],\n",
       "        dtype=float32),\n",
       "  'detection_class_labels': array([571, 409, 103, 409, 404, 409, 404, 409, 391, 391,  69, 384, 409,\n",
       "         103, 485, 409, 404, 409, 552, 409, 103, 409, 571, 485, 552, 485,\n",
       "         241, 462, 391, 409, 414,  69, 552, 552, 462, 391,  69, 433, 409,\n",
       "         391,  11, 409, 103, 552, 462, 103, 409, 391, 404, 552, 552, 409,\n",
       "         384, 462, 334, 409,  11, 409,  99, 391, 391, 552, 552, 552, 103,\n",
       "         424, 409, 571, 571, 462, 552, 552, 298,  69, 241, 552, 552, 334,\n",
       "         409, 103, 468, 409, 298, 404, 468, 433, 241, 468, 552,  43, 466,\n",
       "         408, 103, 404, 241,  40, 552,  97, 409, 404], dtype=int64)}}"
      ]
     },
     "execution_count": 126,
     "metadata": {},
     "output_type": "execute_result"
    }
   ],
   "source": [
    "test"
   ]
  },
  {
   "cell_type": "code",
   "execution_count": null,
   "metadata": {},
   "outputs": [],
   "source": [
    "# run model on all sample images\n",
    "results = []\n",
    "for img in imgs:\n",
    "    output = run_detector(detector, img)\n",
    "    results.append(output)"
   ]
  },
  {
   "cell_type": "code",
   "execution_count": 138,
   "metadata": {},
   "outputs": [],
   "source": [
    "#write to file\n",
    "\n",
    "import pickle\n",
    "\n",
    "with open(f\"{path}\\\\results\\\\fasterrcnn.pkl\", 'wb') as f:\n",
    "    pickle.dump(test, f)"
   ]
  },
  {
   "cell_type": "code",
   "execution_count": 139,
   "metadata": {},
   "outputs": [],
   "source": [
    "with open(f\"{path}\\\\results\\\\test.pkl\", 'rb') as f:\n",
    "    data = pickle.load(f)"
   ]
  }
 ],
 "metadata": {
  "accelerator": "GPU",
  "colab": {
   "collapsed_sections": [],
   "name": "Object detection",
   "private_outputs": true,
   "provenance": [],
   "toc_visible": true
  },
  "kernelspec": {
   "display_name": "Python 3 (ipykernel)",
   "language": "python",
   "name": "python3"
  },
  "language_info": {
   "codemirror_mode": {
    "name": "ipython",
    "version": 3
   },
   "file_extension": ".py",
   "mimetype": "text/x-python",
   "name": "python",
   "nbconvert_exporter": "python",
   "pygments_lexer": "ipython3",
   "version": "3.9.7"
  }
 },
 "nbformat": 4,
 "nbformat_minor": 1
}
